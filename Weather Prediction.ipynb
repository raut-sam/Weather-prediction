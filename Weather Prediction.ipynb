{
 "cells": [
  {
   "cell_type": "code",
   "execution_count": 23,
   "metadata": {},
   "outputs": [],
   "source": [
    "from keras.models import Sequential\n",
    "from keras.layers import Dense, Activation\n",
    "from keras.utils import np_utils\n",
    "import numpy as np"
   ]
  },
  {
   "cell_type": "code",
   "execution_count": 24,
   "metadata": {},
   "outputs": [
    {
     "name": "stdout",
     "output_type": "stream",
     "text": [
      "4646\n",
      "2289\n"
     ]
    }
   ],
   "source": [
    "seed = 7\n",
    "np.random.seed(seed)\n",
    "data = np.loadtxt(\"data.txt\")\n",
    "X_train = data[:4646,:12]\n",
    "Y_train = data[:4646,12:13]\n",
    "X_test = data[4646:6936,:12]\n",
    "Y_test = data[4646:6936,12:13]\n",
    "len_y_train = len(Y_train)\n",
    "len_y_test = len(Y_test)\n",
    "print(len(Y_train))\n",
    "print(len(Y_test))"
   ]
  },
  {
   "cell_type": "code",
   "execution_count": 25,
   "metadata": {},
   "outputs": [
    {
     "name": "stdout",
     "output_type": "stream",
     "text": [
      "[[2.]\n",
      " [2.]\n",
      " [2.]\n",
      " ...\n",
      " [3.]\n",
      " [3.]\n",
      " [3.]]\n",
      "[[3.]\n",
      " [3.]\n",
      " [3.]\n",
      " ...\n",
      " [2.]\n",
      " [2.]\n",
      " [2.]]\n"
     ]
    }
   ],
   "source": [
    "for i in range(0,len_y_train):\n",
    "    if(Y_train[i]==1000):\n",
    "        Y_train[i] = 3\n",
    "        Y_train[i] = int(Y_train[i])\n",
    "    elif(Y_train[i]==100):\n",
    "        Y_train[i] = 2\n",
    "        Y_train[i] = int(Y_train[i])\n",
    "    elif(Y_train[i]==10):\n",
    "        Y_train[i] = 1\n",
    "        Y_train[i] = int(Y_train[i])\n",
    "    elif(Y_train[i]==1):\n",
    "        Y_train[i] = 0\n",
    "        Y_train[i] = int(Y_train[i])\n",
    "\n",
    "for i in range(0,len_y_test):\n",
    "    if(Y_test[i]==1000):\n",
    "        Y_test[i] = 3\n",
    "        Y_test[i] = int(Y_test[i])\n",
    "    elif(Y_test[i]==100):\n",
    "        Y_test[i] = 2\n",
    "        Y_test[i] = int(Y_test[i])\n",
    "    elif(Y_test[i]==10):\n",
    "        Y_test[i] = 1\n",
    "        Y_test[i] = int(Y_test[i])\n",
    "    elif(Y_test[i]==1):\n",
    "        Y_test[i] = 0\n",
    "        Y_test[i] = int(Y_test[i])\n",
    "\n",
    "print(Y_train)\n",
    "print(Y_test)"
   ]
  },
  {
   "cell_type": "code",
   "execution_count": null,
   "metadata": {},
   "outputs": [
    {
     "name": "stderr",
     "output_type": "stream",
     "text": [
      "C:\\Users\\welcome\\Anaconda3\\lib\\site-packages\\ipykernel_launcher.py:6: UserWarning: Update your `Dense` call to the Keras 2 API: `Dense(100, input_dim=12, activation=\"relu\", kernel_initializer=\"uniform\")`\n",
      "  \n",
      "C:\\Users\\welcome\\Anaconda3\\lib\\site-packages\\ipykernel_launcher.py:7: UserWarning: Update your `Dense` call to the Keras 2 API: `Dense(80, activation=\"relu\", kernel_initializer=\"uniform\")`\n",
      "  import sys\n",
      "C:\\Users\\welcome\\Anaconda3\\lib\\site-packages\\ipykernel_launcher.py:8: UserWarning: Update your `Dense` call to the Keras 2 API: `Dense(60, activation=\"relu\", kernel_initializer=\"uniform\")`\n",
      "  \n",
      "C:\\Users\\welcome\\Anaconda3\\lib\\site-packages\\ipykernel_launcher.py:9: UserWarning: Update your `Dense` call to the Keras 2 API: `Dense(60, activation=\"relu\", kernel_initializer=\"uniform\")`\n",
      "  if __name__ == '__main__':\n",
      "C:\\Users\\welcome\\Anaconda3\\lib\\site-packages\\ipykernel_launcher.py:14: UserWarning: The `nb_epoch` argument in `fit` has been renamed `epochs`.\n",
      "  \n"
     ]
    },
    {
     "name": "stdout",
     "output_type": "stream",
     "text": [
      "_________________________________________________________________\n",
      "Layer (type)                 Output Shape              Param #   \n",
      "=================================================================\n",
      "dense_26 (Dense)             (None, 100)               1300      \n",
      "_________________________________________________________________\n",
      "dense_27 (Dense)             (None, 80)                8080      \n",
      "_________________________________________________________________\n",
      "dense_28 (Dense)             (None, 60)                4860      \n",
      "_________________________________________________________________\n",
      "dense_29 (Dense)             (None, 60)                3660      \n",
      "_________________________________________________________________\n",
      "dense_30 (Dense)             (None, 4)                 244       \n",
      "_________________________________________________________________\n",
      "activation_6 (Activation)    (None, 4)                 0         \n",
      "=================================================================\n",
      "Total params: 18,144\n",
      "Trainable params: 18,144\n",
      "Non-trainable params: 0\n",
      "_________________________________________________________________\n",
      "Train on 4646 samples, validate on 2289 samples\n",
      "Epoch 1/50\n",
      " - 3s - loss: 0.4014 - acc: 0.8289 - val_loss: 0.4113 - val_acc: 0.8131\n",
      "Epoch 2/50\n",
      " - 1s - loss: 0.3323 - acc: 0.8651 - val_loss: 0.3414 - val_acc: 0.8554\n",
      "Epoch 3/50\n",
      " - 1s - loss: 0.3123 - acc: 0.8700 - val_loss: 0.3344 - val_acc: 0.8626\n",
      "Epoch 4/50\n",
      " - 1s - loss: 0.3090 - acc: 0.8728 - val_loss: 0.3280 - val_acc: 0.8623\n",
      "Epoch 5/50\n",
      " - 1s - loss: 0.2996 - acc: 0.8751 - val_loss: 0.4413 - val_acc: 0.8271\n",
      "Epoch 6/50\n",
      " - 1s - loss: 0.2958 - acc: 0.8758 - val_loss: 0.3413 - val_acc: 0.8558\n",
      "Epoch 7/50\n",
      " - 1s - loss: 0.2905 - acc: 0.8803 - val_loss: 0.3280 - val_acc: 0.8628\n",
      "Epoch 8/50\n",
      " - 1s - loss: 0.2885 - acc: 0.8812 - val_loss: 0.3370 - val_acc: 0.8593\n",
      "Epoch 9/50\n",
      " - 1s - loss: 0.2828 - acc: 0.8813 - val_loss: 0.3516 - val_acc: 0.8555\n",
      "Epoch 10/50\n",
      " - 2s - loss: 0.2830 - acc: 0.8811 - val_loss: 0.3084 - val_acc: 0.8719\n",
      "Epoch 11/50\n",
      " - 2s - loss: 0.2869 - acc: 0.8809 - val_loss: 0.3168 - val_acc: 0.8664\n",
      "Epoch 12/50\n",
      " - 2s - loss: 0.2785 - acc: 0.8849 - val_loss: 0.2991 - val_acc: 0.8706\n",
      "Epoch 13/50\n",
      " - 1s - loss: 0.2794 - acc: 0.8830 - val_loss: 0.3234 - val_acc: 0.8588\n",
      "Epoch 14/50\n",
      " - 1s - loss: 0.2753 - acc: 0.8865 - val_loss: 0.3065 - val_acc: 0.8702\n",
      "Epoch 15/50\n",
      " - 1s - loss: 0.2727 - acc: 0.8863 - val_loss: 0.3126 - val_acc: 0.8686\n",
      "Epoch 16/50\n",
      " - 1s - loss: 0.2725 - acc: 0.8870 - val_loss: 0.3184 - val_acc: 0.8730\n",
      "Epoch 17/50\n",
      " - 1s - loss: 0.2756 - acc: 0.8861 - val_loss: 0.3493 - val_acc: 0.8536\n",
      "Epoch 18/50\n",
      " - 2s - loss: 0.2700 - acc: 0.8857 - val_loss: 0.3019 - val_acc: 0.8723\n",
      "Epoch 19/50\n",
      " - 2s - loss: 0.2664 - acc: 0.8905 - val_loss: 0.3052 - val_acc: 0.8716\n",
      "Epoch 20/50\n",
      " - 1s - loss: 0.2741 - acc: 0.8862 - val_loss: 0.3666 - val_acc: 0.8461\n",
      "Epoch 21/50\n",
      " - 1s - loss: 0.2732 - acc: 0.8851 - val_loss: 0.3541 - val_acc: 0.8504\n",
      "Epoch 22/50\n",
      " - 1s - loss: 0.2668 - acc: 0.8889 - val_loss: 0.3750 - val_acc: 0.8585\n",
      "Epoch 23/50\n",
      " - 1s - loss: 0.2699 - acc: 0.8857 - val_loss: 0.3503 - val_acc: 0.8520\n",
      "Epoch 24/50\n",
      " - 1s - loss: 0.2665 - acc: 0.8890 - val_loss: 0.3159 - val_acc: 0.8664\n",
      "Epoch 25/50\n",
      " - 1s - loss: 0.2648 - acc: 0.8879 - val_loss: 0.3123 - val_acc: 0.8719\n",
      "Epoch 26/50\n",
      " - 1s - loss: 0.2657 - acc: 0.8882 - val_loss: 0.3214 - val_acc: 0.8696\n",
      "Epoch 27/50\n",
      " - 1s - loss: 0.2649 - acc: 0.8891 - val_loss: 0.3410 - val_acc: 0.8552\n",
      "Epoch 28/50\n",
      " - 1s - loss: 0.2663 - acc: 0.8867 - val_loss: 0.2900 - val_acc: 0.8758\n",
      "Epoch 29/50\n",
      " - 1s - loss: 0.2622 - acc: 0.8900 - val_loss: 0.3136 - val_acc: 0.8707\n",
      "Epoch 30/50\n",
      " - 2s - loss: 0.2612 - acc: 0.8879 - val_loss: 0.2910 - val_acc: 0.8730\n",
      "Epoch 31/50\n",
      " - 1s - loss: 0.2646 - acc: 0.8899 - val_loss: 0.3402 - val_acc: 0.8624\n",
      "Epoch 32/50\n",
      " - 1s - loss: 0.2641 - acc: 0.8876 - val_loss: 0.3004 - val_acc: 0.8682\n",
      "Epoch 33/50\n",
      " - 2s - loss: 0.2633 - acc: 0.8897 - val_loss: 0.3242 - val_acc: 0.8640\n",
      "Epoch 34/50\n",
      " - 1s - loss: 0.2585 - acc: 0.8906 - val_loss: 0.3036 - val_acc: 0.8753\n",
      "Epoch 35/50\n",
      " - 1s - loss: 0.2601 - acc: 0.8891 - val_loss: 0.3046 - val_acc: 0.8677\n",
      "Epoch 36/50\n",
      " - 1s - loss: 0.2598 - acc: 0.8888 - val_loss: 0.3070 - val_acc: 0.8677\n",
      "Epoch 37/50\n",
      " - 1s - loss: 0.2626 - acc: 0.8883 - val_loss: 0.3209 - val_acc: 0.8624\n",
      "Epoch 38/50\n",
      " - 1s - loss: 0.2584 - acc: 0.8899 - val_loss: 0.3112 - val_acc: 0.8737\n",
      "Epoch 39/50\n",
      " - 1s - loss: 0.2627 - acc: 0.8892 - val_loss: 0.3017 - val_acc: 0.8747\n",
      "Epoch 40/50\n",
      " - 1s - loss: 0.2591 - acc: 0.8907 - val_loss: 0.3054 - val_acc: 0.8675\n",
      "Epoch 41/50\n",
      " - 1s - loss: 0.2617 - acc: 0.8882 - val_loss: 0.3075 - val_acc: 0.8721\n",
      "Epoch 42/50\n",
      " - 1s - loss: 0.2610 - acc: 0.8903 - val_loss: 0.2974 - val_acc: 0.8716\n",
      "Epoch 43/50\n",
      " - 2s - loss: 0.2592 - acc: 0.8910 - val_loss: 0.3023 - val_acc: 0.8736\n",
      "Epoch 44/50\n",
      " - 1s - loss: 0.2593 - acc: 0.8884 - val_loss: 0.2882 - val_acc: 0.8761\n",
      "Epoch 45/50\n"
     ]
    }
   ],
   "source": [
    "Y_train = Y_train.astype('int32')\n",
    "Y_train = np_utils.to_categorical(Y_train,4)\n",
    "Y_test = Y_test.astype('int32')\n",
    "Y_test = np_utils.to_categorical(Y_test,4)\n",
    "model = Sequential()\n",
    "model.add(Dense(100, input_dim=12, init='uniform', activation='relu'))\n",
    "model.add(Dense(80, init='uniform', activation='relu'))\n",
    "model.add(Dense(60, init='uniform', activation='relu'))\n",
    "model.add(Dense(60, init='uniform', activation='relu'))\n",
    "model.add(Dense(4))\n",
    "model.add(Activation('softmax'))\n",
    "model.summary()\n",
    "model.compile(loss='binary_crossentropy', optimizer='adam', metrics=['accuracy'])\n",
    "model.fit(X_train, Y_train, nb_epoch=50, batch_size=10, verbose=2, validation_data=(X_test,Y_test))\n",
    "scores = model.evaluate(X_test, Y_test, verbose=0)\n",
    "print(\"\\n\")\n",
    "print(\"%s: %.2f%%\" % (model.metrics_names[1], scores[1]*100))"
   ]
  },
  {
   "cell_type": "code",
   "execution_count": 7,
   "metadata": {},
   "outputs": [
    {
     "name": "stdout",
     "output_type": "stream",
     "text": [
      "[[   0   22   10   13    9  101   47 1021 1017    3    1   15]]\n"
     ]
    }
   ],
   "source": [
    "pre_data = np.loadtxt('predict.txt')\n",
    "model = open('model.g').read()\n",
    "model.load_weights('weight.h5')\n",
    "model.compile(loss='binary_crossentropy', optimizer='adam', metrics=['accuracy'])\n",
    "pre_data = pre_data.astype('int32')\n",
    "pre_data = pre_data.reshape(1,12)\n",
    "print(pre_data)"
   ]
  },
  {
   "cell_type": "code",
   "execution_count": 15,
   "metadata": {},
   "outputs": [
    {
     "name": "stdout",
     "output_type": "stream",
     "text": [
      "\n",
      " [[0.01250363 0.02864366 0.91477937 0.04407343]]\n"
     ]
    }
   ],
   "source": [
    "ans = model.predict(x=pre_data)\n",
    "print('\\n',ans)"
   ]
  },
  {
   "cell_type": "code",
   "execution_count": null,
   "metadata": {},
   "outputs": [],
   "source": []
  }
 ],
 "metadata": {
  "kernelspec": {
   "display_name": "Python 3",
   "language": "python",
   "name": "python3"
  },
  "language_info": {
   "codemirror_mode": {
    "name": "ipython",
    "version": 3
   },
   "file_extension": ".py",
   "mimetype": "text/x-python",
   "name": "python",
   "nbconvert_exporter": "python",
   "pygments_lexer": "ipython3",
   "version": "3.7.3"
  }
 },
 "nbformat": 4,
 "nbformat_minor": 2
}
